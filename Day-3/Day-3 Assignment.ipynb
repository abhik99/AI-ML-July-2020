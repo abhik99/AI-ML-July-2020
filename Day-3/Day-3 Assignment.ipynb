{
 "cells": [
  {
   "cell_type": "code",
   "execution_count": 1,
   "metadata": {},
   "outputs": [
    {
     "name": "stdout",
     "output_type": "stream",
     "text": [
      "(2+2j)\n"
     ]
    }
   ],
   "source": [
    "#Write a program to subtract two complex numbers in Python\n",
    "p = 1+2j\n",
    "q = 3+4j\n",
    "print(q-p)"
   ]
  },
  {
   "cell_type": "code",
   "execution_count": 2,
   "metadata": {},
   "outputs": [
    {
     "name": "stdout",
     "output_type": "stream",
     "text": [
      "4.0\n"
     ]
    }
   ],
   "source": [
    "#Write a program to find the fourth root of a number\n",
    "p = 256\n",
    "q = 0.25\n",
    "print(a**b)"
   ]
  },
  {
   "cell_type": "code",
   "execution_count": 8,
   "metadata": {},
   "outputs": [
    {
     "name": "stdout",
     "output_type": "stream",
     "text": [
      "Before Swap: 1st no. is 2 2nd no. is 3\n",
      "After Swap: 1st no. is 3 2nd no. is 2\n"
     ]
    }
   ],
   "source": [
    "#Write a program to swap two numbers in Python with the help of a temporary variable\n",
    "p = 2\n",
    "q = 3\n",
    "print(\"Before Swap: 1st no. is \"+str(p)+\" 2nd no. is \"+str(q)+\"\")\n",
    "tmp = p\n",
    "p = q\n",
    "q = tmp\n",
    "print(\"After Swap: 1st no. is \"+str(p)+\" 2nd no. is \"+str(q)+\"\")"
   ]
  },
  {
   "cell_type": "code",
   "execution_count": 10,
   "metadata": {},
   "outputs": [
    {
     "name": "stdout",
     "output_type": "stream",
     "text": [
      "Before Swap: 1st no. is 1 2nd no. is 2\n",
      "After Swap: 1st no. is 2 2nd no. is 1\n"
     ]
    }
   ],
   "source": [
    "#Write a program to swap two numbers in Python without using a temporary variable\n",
    "p = 1\n",
    "q = 2\n",
    "print(\"Before Swap: 1st no. is \"+str(p)+\" 2nd no. is \"+str(q)+\"\")\n",
    "p,q = q,p\n",
    "print(\"After Swap: 1st no. is \"+str(p)+\" 2nd no. is \"+str(q)+\"\")"
   ]
  },
  {
   "cell_type": "code",
   "execution_count": 19,
   "metadata": {},
   "outputs": [
    {
     "name": "stdout",
     "output_type": "stream",
     "text": [
      "In Celsius = 93.33333333333333 In Kelvin = 366.48333333333335\n"
     ]
    }
   ],
   "source": [
    "#Write a program to convert fahrenheit to kelvin and celsius both\n",
    "F = 200\n",
    "C = (F - 32)/1.80 #Fahrenheit to Celsius\n",
    "K = 5/9*(F - 32) + 273.15 #Fahrenheit to Kelvin\n",
    "print(\"In Celsius = \"+str(C)+\" In Kelvin = \"+str(K)+\"\")"
   ]
  },
  {
   "cell_type": "code",
   "execution_count": 21,
   "metadata": {},
   "outputs": [
    {
     "name": "stdout",
     "output_type": "stream",
     "text": [
      "<class 'int'> <class 'float'> <class 'complex'> <class 'bool'> <class 'str'> <class 'list'> <class 'tuple'> <class 'dict'>\n"
     ]
    }
   ],
   "source": [
    "#Write a program to demonstrate all the available data types in Python\n",
    "p = 1231\n",
    "q = 12312.3214\n",
    "r = 21+12j\n",
    "s = True\n",
    "t = \"Abhishek\"\n",
    "u = [1,2,3]\n",
    "v = (1,2,3)\n",
    "w = {1:12,2:\"Yes\",3:0}\n",
    "print(type(p),type(q),type(r),type(s),type(t),type(u),type(v),type(w))"
   ]
  },
  {
   "cell_type": "markdown",
   "metadata": {},
   "source": [
    "Steps for creating Github Account\n",
    "Go to https://github.com \n",
    "Look on upper right side and click on sign up button\n",
    "Fill your details and click on Create Acoount\n",
    "Github accout created\n",
    "\n",
    "Steps for submitting Assingments\n",
    "Create folder and upload your code in you Github account\n",
    "Make your you are in your github page then copy URL from your browsers address bar\n",
    "Then you have to give that URL to give Google Form for assignment submission"
   ]
  }
 ],
 "metadata": {
  "kernelspec": {
   "display_name": "Python 3",
   "language": "python",
   "name": "python3"
  },
  "language_info": {
   "codemirror_mode": {
    "name": "ipython",
    "version": 3
   },
   "file_extension": ".py",
   "mimetype": "text/x-python",
   "name": "python",
   "nbconvert_exporter": "python",
   "pygments_lexer": "ipython3",
   "version": "3.7.6"
  }
 },
 "nbformat": 4,
 "nbformat_minor": 4
}
