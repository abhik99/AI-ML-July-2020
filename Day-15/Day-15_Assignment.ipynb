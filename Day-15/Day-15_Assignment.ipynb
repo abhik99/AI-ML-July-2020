{
 "cells": [
  {
   "cell_type": "code",
   "execution_count": 1,
   "metadata": {
    "ExecuteTime": {
     "end_time": "2020-08-09T23:49:02.013868Z",
     "start_time": "2020-08-09T23:49:01.998244Z"
    }
   },
   "outputs": [],
   "source": [
    "import numpy as np"
   ]
  },
  {
   "cell_type": "markdown",
   "metadata": {},
   "source": [
    "# Create a 3x3x3 array with random values "
   ]
  },
  {
   "cell_type": "code",
   "execution_count": 2,
   "metadata": {
    "ExecuteTime": {
     "end_time": "2020-08-09T23:49:09.555985Z",
     "start_time": "2020-08-09T23:49:08.816277Z"
    }
   },
   "outputs": [
    {
     "data": {
      "text/plain": [
       "array([[[0.74130255, 0.27483031, 0.5485592 ],\n",
       "        [0.30011497, 0.62950599, 0.56819769],\n",
       "        [0.85648504, 0.7916117 , 0.52983828]],\n",
       "\n",
       "       [[0.66463978, 0.99332896, 0.53749428],\n",
       "        [0.11691941, 0.2486677 , 0.14532961],\n",
       "        [0.94410082, 0.51059808, 0.36199316]],\n",
       "\n",
       "       [[0.83249447, 0.39378075, 0.49593938],\n",
       "        [0.4858531 , 0.89253457, 0.38259165],\n",
       "        [0.83149983, 0.19232472, 0.15059583]]])"
      ]
     },
     "execution_count": 2,
     "metadata": {},
     "output_type": "execute_result"
    }
   ],
   "source": [
    "np.random.rand(3,3,3)"
   ]
  },
  {
   "cell_type": "markdown",
   "metadata": {},
   "source": [
    "# Create a 5x5 matrix with values 1,2,3,4 just below the diagonal"
   ]
  },
  {
   "cell_type": "code",
   "execution_count": 3,
   "metadata": {
    "ExecuteTime": {
     "end_time": "2020-08-09T23:50:38.215995Z",
     "start_time": "2020-08-09T23:50:38.162601Z"
    }
   },
   "outputs": [
    {
     "name": "stdout",
     "output_type": "stream",
     "text": [
      "[[0 0 0 0 0]\n",
      " [1 0 0 0 0]\n",
      " [0 2 0 0 0]\n",
      " [0 0 3 0 0]\n",
      " [0 0 0 4 0]]\n"
     ]
    }
   ],
   "source": [
    "p = np.diag(1+np.arange(4), k=-1)\n",
    "print(p)"
   ]
  },
  {
   "cell_type": "markdown",
   "metadata": {},
   "source": [
    "# Create a 8x8 matrix and fill it with a checkerboard pattern"
   ]
  },
  {
   "cell_type": "code",
   "execution_count": 4,
   "metadata": {
    "ExecuteTime": {
     "end_time": "2020-08-09T23:51:39.281363Z",
     "start_time": "2020-08-09T23:51:39.259220Z"
    }
   },
   "outputs": [
    {
     "name": "stdout",
     "output_type": "stream",
     "text": [
      "[[0 1 0 1 0 1 0 1]\n",
      " [1 0 1 0 1 0 1 0]\n",
      " [0 1 0 1 0 1 0 1]\n",
      " [1 0 1 0 1 0 1 0]\n",
      " [0 1 0 1 0 1 0 1]\n",
      " [1 0 1 0 1 0 1 0]\n",
      " [0 1 0 1 0 1 0 1]\n",
      " [1 0 1 0 1 0 1 0]]\n"
     ]
    }
   ],
   "source": [
    "q = np.tile(np.array([[0,1],[1,0]]), (4,4))\n",
    "print(q)"
   ]
  },
  {
   "cell_type": "markdown",
   "metadata": {},
   "source": [
    "# Normalize a 5x5 random matrix"
   ]
  },
  {
   "cell_type": "code",
   "execution_count": 5,
   "metadata": {
    "ExecuteTime": {
     "end_time": "2020-08-09T23:52:46.990450Z",
     "start_time": "2020-08-09T23:52:46.959218Z"
    }
   },
   "outputs": [
    {
     "name": "stdout",
     "output_type": "stream",
     "text": [
      "[[-0.01075481 -0.01365951 -0.27199365  0.82156067  1.51654927]\n",
      " [-0.00334514  0.42318693 -1.57373209 -1.87536223 -1.55089653]\n",
      " [-1.26067285  0.34342653  0.04439678  1.30761322  0.05028035]\n",
      " [-0.41318403  0.27613427  0.28863385  1.08549515  1.79331777]\n",
      " [-0.38603419 -1.87379743  1.23844309  0.14832173 -0.10392715]]\n"
     ]
    }
   ],
   "source": [
    "arr = np.random.random((5,5))\n",
    "narr = (arr - np.mean(arr)) / (np.std(arr))\n",
    "print(narr)"
   ]
  },
  {
   "cell_type": "markdown",
   "metadata": {},
   "source": [
    "#  How to find common values between two arrays?"
   ]
  },
  {
   "cell_type": "code",
   "execution_count": 6,
   "metadata": {
    "ExecuteTime": {
     "end_time": "2020-08-09T23:53:47.810771Z",
     "start_time": "2020-08-09T23:53:47.710506Z"
    }
   },
   "outputs": [
    {
     "name": "stdout",
     "output_type": "stream",
     "text": [
      "[0 1 2 3 4 5 6 7 8 9]\n"
     ]
    }
   ],
   "source": [
    "a1 = np.random.randint(0,10,50)\n",
    "a2 = np.random.randint(0,10,50)\n",
    "print(np.intersect1d(a1,a2))"
   ]
  },
  {
   "cell_type": "markdown",
   "metadata": {},
   "source": [
    "# How to get the dates of yesterday, today and tomorrow?"
   ]
  },
  {
   "cell_type": "code",
   "execution_count": 15,
   "metadata": {
    "ExecuteTime": {
     "end_time": "2020-08-09T23:55:49.795039Z",
     "start_time": "2020-08-09T23:55:49.779416Z"
    }
   },
   "outputs": [
    {
     "name": "stdout",
     "output_type": "stream",
     "text": [
      "2020-08-09 2020-08-10 2020-08-11\n"
     ]
    }
   ],
   "source": [
    "yesterday = np.datetime64('today') - np.timedelta64(1)\n",
    "today     = np.datetime64('today')\n",
    "tomorrow  = np.datetime64('today') + np.timedelta64(1)\n",
    "print(yesterday, today, tomorrow)"
   ]
  },
  {
   "cell_type": "markdown",
   "metadata": {},
   "source": [
    "# Consider two random array A and B, check if they are equal"
   ]
  },
  {
   "cell_type": "code",
   "execution_count": 17,
   "metadata": {
    "ExecuteTime": {
     "end_time": "2020-08-09T23:56:53.678987Z",
     "start_time": "2020-08-09T23:56:53.663357Z"
    }
   },
   "outputs": [
    {
     "name": "stdout",
     "output_type": "stream",
     "text": [
      "False\n"
     ]
    }
   ],
   "source": [
    "a1 = np.random.randint(0,5,5)\n",
    "a2 = np.random.randint(0,5,5)\n",
    "print(np.array_equal(a1,a2))"
   ]
  },
  {
   "cell_type": "markdown",
   "metadata": {},
   "source": [
    "# Create random vector of size 10 and replace the maximum value by 0 "
   ]
  },
  {
   "cell_type": "code",
   "execution_count": 18,
   "metadata": {
    "ExecuteTime": {
     "end_time": "2020-08-09T23:57:48.660255Z",
     "start_time": "2020-08-09T23:57:48.606889Z"
    }
   },
   "outputs": [
    {
     "name": "stdout",
     "output_type": "stream",
     "text": [
      "[0.65569022 0.32661675 0.29207176 0.         0.52803541 0.00459607\n",
      " 0.21497872 0.03901052 0.51049141 0.72298925]\n"
     ]
    }
   ],
   "source": [
    "v = np.random.rand(10)\n",
    "v[v.argmax()] = 0\n",
    "print(v)"
   ]
  },
  {
   "cell_type": "markdown",
   "metadata": {},
   "source": [
    "# How to print all the values of an array?"
   ]
  },
  {
   "cell_type": "code",
   "execution_count": 20,
   "metadata": {
    "ExecuteTime": {
     "end_time": "2020-08-09T23:59:01.838988Z",
     "start_time": "2020-08-09T23:59:01.823361Z"
    }
   },
   "outputs": [
    {
     "name": "stdout",
     "output_type": "stream",
     "text": [
      "[[1. 1. 1. 1. 1.]\n",
      " [1. 1. 1. 1. 1.]\n",
      " [1. 1. 1. 1. 1.]\n",
      " [1. 1. 1. 1. 1.]\n",
      " [1. 1. 1. 1. 1.]]\n"
     ]
    }
   ],
   "source": [
    "arr = np.ones((5, 5))\n",
    "print(arr)"
   ]
  },
  {
   "cell_type": "markdown",
   "metadata": {},
   "source": [
    "# Subtract the mean of each row of a matrix"
   ]
  },
  {
   "cell_type": "code",
   "execution_count": 28,
   "metadata": {
    "ExecuteTime": {
     "end_time": "2020-08-10T00:01:15.366608Z",
     "start_time": "2020-08-10T00:01:15.344470Z"
    }
   },
   "outputs": [
    {
     "name": "stdout",
     "output_type": "stream",
     "text": [
      "before\n",
      " [[ 0.17879927  2.44397401  0.04942671  1.34447249 -1.49151281]\n",
      " [ 0.92929451 -1.114266    0.12578799 -0.0177634  -0.81358931]\n",
      " [ 1.67653149  0.06826263  0.45417152 -1.08900655 -1.47141513]\n",
      " [-0.49171216  2.12733681  1.6928174   0.16906271  0.09266821]\n",
      " [ 0.71542588  0.15511029  1.11472649 -0.7238645  -0.5022018 ]]\n",
      "\n",
      "after\n",
      " [[-0.32623266  2.62208125  0.12171792  0.62643789 -1.64335208]\n",
      " [ 0.42426258 -0.93615875  0.1980792  -0.735798   -0.96542858]\n",
      " [ 1.17149955  0.24636987  0.52646273 -1.80704115 -1.6232544 ]\n",
      " [-0.99674409  2.30544405  1.76510861 -0.54897188 -0.05917106]\n",
      " [ 0.21039394  0.33321753  1.1870177  -1.44189909 -0.65404107]]\n"
     ]
    }
   ],
   "source": [
    "arr = np.random.randn(5, 5)\n",
    "print(\"before\\n\", arr)\n",
    "arr = arr - np.mean(arr,axis=1)\n",
    "print(\"\\nafter\\n\", arr)"
   ]
  },
  {
   "cell_type": "markdown",
   "metadata": {},
   "source": [
    "# Consider a given vector, how to add 1 to each element indexed by a second vector (be careful with repeated indices)? "
   ]
  },
  {
   "cell_type": "code",
   "execution_count": 30,
   "metadata": {
    "ExecuteTime": {
     "end_time": "2020-08-10T00:03:59.132143Z",
     "start_time": "2020-08-10T00:03:59.116548Z"
    }
   },
   "outputs": [
    {
     "name": "stdout",
     "output_type": "stream",
     "text": [
      "[4 4 3 3 4 2 1 0 1 4]\n",
      "[3 7 0 7 5 5 4 0 7 5]\n"
     ]
    }
   ],
   "source": [
    "arr1= np.random.randint(0,5,10)\n",
    "print(arr1)\n",
    "arr2= np.random.randint(0,8,10)\n",
    "print (arr2)"
   ]
  },
  {
   "cell_type": "code",
   "execution_count": 31,
   "metadata": {
    "ExecuteTime": {
     "end_time": "2020-08-10T00:04:10.815737Z",
     "start_time": "2020-08-10T00:04:10.800115Z"
    }
   },
   "outputs": [
    {
     "name": "stdout",
     "output_type": "stream",
     "text": [
      "[6 4 3 4 5 5 1 3 1 4]\n"
     ]
    }
   ],
   "source": [
    "arr1 += np.bincount(arr2, minlength=len(arr1))\n",
    "print (arr1)"
   ]
  },
  {
   "cell_type": "markdown",
   "metadata": {},
   "source": [
    "# How to get the diagonal of a dot product?"
   ]
  },
  {
   "cell_type": "code",
   "execution_count": 32,
   "metadata": {
    "ExecuteTime": {
     "end_time": "2020-08-10T00:05:20.585014Z",
     "start_time": "2020-08-10T00:05:20.538143Z"
    }
   },
   "outputs": [
    {
     "name": "stdout",
     "output_type": "stream",
     "text": [
      "[[4 5 7]\n",
      " [1 9 4]\n",
      " [6 7 8]]\n",
      "[[1 0 4]\n",
      " [2 0 5]\n",
      " [4 0 3]]\n",
      "Diagonal of a dot product\n",
      "[42  0 83]\n"
     ]
    }
   ],
   "source": [
    "x = np.random.randint(0,10,(3,3))\n",
    "print(x)\n",
    "y = np.random.randint(0,10,(3,3))\n",
    "print(y)\n",
    "print(\"Diagonal of a dot product\")\n",
    "print (np.diag(np.dot(x,y)))"
   ]
  },
  {
   "cell_type": "markdown",
   "metadata": {},
   "source": [
    "# How to find the most frequent value in an array?"
   ]
  },
  {
   "cell_type": "code",
   "execution_count": 34,
   "metadata": {
    "ExecuteTime": {
     "end_time": "2020-08-10T00:05:54.936289Z",
     "start_time": "2020-08-10T00:05:54.920663Z"
    }
   },
   "outputs": [
    {
     "name": "stdout",
     "output_type": "stream",
     "text": [
      "[1 8 8 1 9 5 7 2 9 9 3 9 8 1 5 4 0 9 8 1 6 4 8 8 4 8 0 1 6 6]\n",
      "8\n"
     ]
    }
   ],
   "source": [
    "arr = np.random.randint(0,10,30)\n",
    "print(arr)\n",
    "print(np.bincount(arr).argmax())"
   ]
  },
  {
   "cell_type": "markdown",
   "metadata": {},
   "source": [
    "# How to get the n largest values of an array"
   ]
  },
  {
   "cell_type": "code",
   "execution_count": 35,
   "metadata": {
    "ExecuteTime": {
     "end_time": "2020-08-10T00:06:36.178587Z",
     "start_time": "2020-08-10T00:06:36.162962Z"
    }
   },
   "outputs": [
    {
     "data": {
      "text/plain": [
       "2"
      ]
     },
     "execution_count": 35,
     "metadata": {},
     "output_type": "execute_result"
    }
   ],
   "source": [
    "arr = np.random.randint(0,10,50)\n",
    "np.bincount(arr).argmax()"
   ]
  },
  {
   "cell_type": "markdown",
   "metadata": {},
   "source": [
    "# How to create a record array from a regular array?"
   ]
  },
  {
   "cell_type": "code",
   "execution_count": 36,
   "metadata": {
    "ExecuteTime": {
     "end_time": "2020-08-10T00:07:55.617930Z",
     "start_time": "2020-08-10T00:07:55.548912Z"
    }
   },
   "outputs": [
    {
     "name": "stdout",
     "output_type": "stream",
     "text": [
      "[(b'Hello', 123., 3) (b'World', 306., 2)]\n"
     ]
    }
   ],
   "source": [
    "x = np.array([(\"Hello\", 123, 3),\n",
    "              (\"World\", 306, 2)])\n",
    "rec = np.core.records.fromarrays(x.T,\n",
    "                               names='col1, col2, col3',\n",
    "                               formats = 'S8, f8, i8')\n",
    "\n",
    "print (rec)"
   ]
  },
  {
   "cell_type": "code",
   "execution_count": null,
   "metadata": {},
   "outputs": [],
   "source": []
  }
 ],
 "metadata": {
  "hide_input": false,
  "kernelspec": {
   "display_name": "Python 3",
   "language": "python",
   "name": "python3"
  },
  "language_info": {
   "codemirror_mode": {
    "name": "ipython",
    "version": 3
   },
   "file_extension": ".py",
   "mimetype": "text/x-python",
   "name": "python",
   "nbconvert_exporter": "python",
   "pygments_lexer": "ipython3",
   "version": "3.8.3"
  },
  "toc": {
   "base_numbering": 1,
   "nav_menu": {},
   "number_sections": true,
   "sideBar": true,
   "skip_h1_title": false,
   "title_cell": "Table of Contents",
   "title_sidebar": "Contents",
   "toc_cell": false,
   "toc_position": {},
   "toc_section_display": true,
   "toc_window_display": false
  },
  "varInspector": {
   "cols": {
    "lenName": 16,
    "lenType": 16,
    "lenVar": 40
   },
   "kernels_config": {
    "python": {
     "delete_cmd_postfix": "",
     "delete_cmd_prefix": "del ",
     "library": "var_list.py",
     "varRefreshCmd": "print(var_dic_list())"
    },
    "r": {
     "delete_cmd_postfix": ") ",
     "delete_cmd_prefix": "rm(",
     "library": "var_list.r",
     "varRefreshCmd": "cat(var_dic_list()) "
    }
   },
   "types_to_exclude": [
    "module",
    "function",
    "builtin_function_or_method",
    "instance",
    "_Feature"
   ],
   "window_display": false
  }
 },
 "nbformat": 4,
 "nbformat_minor": 4
}
