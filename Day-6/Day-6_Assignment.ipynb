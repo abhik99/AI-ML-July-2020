{
 "cells": [
  {
   "cell_type": "code",
   "execution_count": null,
   "metadata": {},
   "outputs": [],
   "source": [
    "#Assuming that we have some email addresses in the \"username@companyname.com\" format, please write program to print the company name of a given email address. Both user names and company names are composed of letters only\n",
    "email = input(\"Enter your email address: \")\n",
    "print(\"Company name is: \"+email.split(\"@\")[1].split(\".\")[0]+\"\")"
   ]
  },
  {
   "cell_type": "code",
   "execution_count": 6,
   "metadata": {},
   "outputs": [
    {
     "name": "stdout",
     "output_type": "stream",
     "text": [
      "Enter the words: my,name,is,abhi\n",
      "['abhi', 'is', 'my', 'name']\n"
     ]
    }
   ],
   "source": [
    "#Write a program that accepts a comma-separated sequence of words as input and prints the words in a comma separated sequence after sorting them alphabetically\n",
    "word = input(\"Enter the words: \").split(\",\")\n",
    "word.sort()\n",
    "print(word)"
   ]
  },
  {
   "cell_type": "code",
   "execution_count": 14,
   "metadata": {},
   "outputs": [
    {
     "name": "stdout",
     "output_type": "stream",
     "text": [
      "{'my', 'abhi', 'is', 'name'}\n",
      "{'my', 'is', 'abhi', 'name', 'shek'}\n",
      "{'is', 'abhi', 'name', 'shek'}\n",
      "{'is', 'abhi', 'name'}\n",
      "{'reasons', 'is', 'abhi', 'name', '13', 'why'}\n",
      "set()\n"
     ]
    }
   ],
   "source": [
    "#Create your own Jupyter Notebook for Sets\n",
    "set = {\"my\", \"name\", \"is\", \"abhi\"}\n",
    "print(set)\n",
    "set.add(\"shek\")\n",
    "print(set)\n",
    "set.pop()\n",
    "print(set)\n",
    "set.remove(\"shek\")\n",
    "print(set)\n",
    "set.update([\"why\",\"13\",\"reasons\"])\n",
    "print(set)\n",
    "set.clear()\n",
    "print(set)\n"
   ]
  },
  {
   "cell_type": "code",
   "execution_count": 2,
   "metadata": {},
   "outputs": [
    {
     "name": "stdout",
     "output_type": "stream",
     "text": [
      "Enter list of numbers 1 2 3 5 6\n",
      "4\n"
     ]
    }
   ],
   "source": [
    "#Given a list of n-1 numbers ranging from 1 to n, your task is to find the missing number. There are no duplicates\n",
    "num = input(\"Enter list of numbers \").split(\" \")\n",
    "for i in range(1,len(num)):\n",
    "    if str(i) not in num:\n",
    "        print(i)"
   ]
  },
  {
   "cell_type": "code",
   "execution_count": 5,
   "metadata": {},
   "outputs": [
    {
     "name": "stdout",
     "output_type": "stream",
     "text": [
      "Enter list of numbers12 4 6 4 12\n",
      "['12', '4', '6']\n"
     ]
    }
   ],
   "source": [
    "#With a given list L, write a program to print this list L after removing all duplicate values with original order reserved\n",
    "l = input('Enter list of numbers').split(\" \")\n",
    "print(list(dict.fromkeys(l)))"
   ]
  },
  {
   "cell_type": "code",
   "execution_count": null,
   "metadata": {},
   "outputs": [],
   "source": []
  }
 ],
 "metadata": {
  "kernelspec": {
   "display_name": "Python 3",
   "language": "python",
   "name": "python3"
  },
  "language_info": {
   "codemirror_mode": {
    "name": "ipython",
    "version": 3
   },
   "file_extension": ".py",
   "mimetype": "text/x-python",
   "name": "python",
   "nbconvert_exporter": "python",
   "pygments_lexer": "ipython3",
   "version": "3.7.6"
  }
 },
 "nbformat": 4,
 "nbformat_minor": 4
}
