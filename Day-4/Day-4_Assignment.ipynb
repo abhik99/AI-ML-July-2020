{
 "cells": [
  {
   "cell_type": "code",
   "execution_count": 6,
   "metadata": {},
   "outputs": [
    {
     "name": "stdout",
     "output_type": "stream",
     "text": [
      "Addition of complex no. is: (6+8j) \n",
      "Subtraction of complex no. is: (-2-2j) \n",
      "Multiplication of complex no. is: (-7+22j) \n",
      "Division of complex no. is: (0.5609756097560976+0.0487804878048781j) \n"
     ]
    }
   ],
   "source": [
    "#operations performed on complex numbers\n",
    "p = 2 + 3j\n",
    "q = 4 + 5j\n",
    "print(\"Addition of complex no. is: \"+str(p+q)+\" \")\n",
    "print(\"Subtraction of complex no. is: \"+str(p-q)+\" \")\n",
    "print(\"Multiplication of complex no. is: \"+str(p*q)+\" \")\n",
    "print(\"Division of complex no. is: \"+str(p/q)+\" \")\n",
    "#print(\"Floor Division of complex no. is: \"+str(p//q)+\" \") Complex no. doesn't support floor division\n",
    "#print(\"Modulo of complex no. is: \"+str(p%q)+\" \") Complex no. doesn't support modulo"
   ]
  },
  {
   "cell_type": "markdown",
   "metadata": {},
   "source": [
    "range() function is used to get the value of interations by increment of 1"
   ]
  },
  {
   "cell_type": "code",
   "execution_count": 9,
   "metadata": {},
   "outputs": [
    {
     "name": "stdout",
     "output_type": "stream",
     "text": [
      "0\n",
      "1\n",
      "2\n",
      "3\n",
      "4\n",
      "5\n"
     ]
    }
   ],
   "source": [
    "for x in range(6): #it starts counting from 0\n",
    "    print(x)"
   ]
  },
  {
   "cell_type": "code",
   "execution_count": 14,
   "metadata": {},
   "outputs": [
    {
     "name": "stdout",
     "output_type": "stream",
     "text": [
      "Enter 1st no.: 74\n",
      "Enter 2nd no.: 100\n",
      "Multiplication is: 7400\n"
     ]
    }
   ],
   "source": [
    "#Consider two numbers. Perform their subtraction and if the result of subtraction is greater than 25, print their multiplication result else print their division result\n",
    "p = int(input(\"Enter 1st no.: \"))\n",
    "q = int(input(\"Enter 2nd no.: \"))\n",
    "\n",
    "if q-p > 25:\n",
    "    print(\"Multiplication is: \"+str(p*q)+\"\")\n",
    "else:\n",
    "    print(\"Division is :\"+str(p/q)+\"\")\n",
    "    \n"
   ]
  },
  {
   "cell_type": "code",
   "execution_count": 15,
   "metadata": {},
   "outputs": [
    {
     "name": "stdout",
     "output_type": "stream",
     "text": [
      "54754\n",
      "55694\n",
      "126734\n",
      "141374\n",
      "14\n",
      "956482\n"
     ]
    }
   ],
   "source": [
    "#Consider a list of 10 elements of integer values. If the number in the list is divisible by 2, print the result as \"square of that number minus 2\".\n",
    "p = [234,563,236,32567,356,376,143,79,4,978]\n",
    "for x in p:\n",
    "    if(x % 2 == 0):\n",
    "        print(x * x -2)"
   ]
  },
  {
   "cell_type": "code",
   "execution_count": 19,
   "metadata": {},
   "outputs": [
    {
     "name": "stdout",
     "output_type": "stream",
     "text": [
      "234\n",
      "563\n",
      "236\n",
      "32567\n",
      "356\n",
      "376\n",
      "143\n",
      "79\n",
      "978\n"
     ]
    }
   ],
   "source": [
    "#Consider a list of 10 elements. Print all the elements in the list which are greater than 7 when that number is divided 2\n",
    "p = [234,563,236,32567,356,376,143,79,4,978]\n",
    "for x in p:\n",
    "    if(x / 2 > 7):\n",
    "        print(x)"
   ]
  },
  {
   "cell_type": "code",
   "execution_count": null,
   "metadata": {},
   "outputs": [],
   "source": []
  }
 ],
 "metadata": {
  "kernelspec": {
   "display_name": "Python 3",
   "language": "python",
   "name": "python3"
  },
  "language_info": {
   "codemirror_mode": {
    "name": "ipython",
    "version": 3
   },
   "file_extension": ".py",
   "mimetype": "text/x-python",
   "name": "python",
   "nbconvert_exporter": "python",
   "pygments_lexer": "ipython3",
   "version": "3.7.6"
  }
 },
 "nbformat": 4,
 "nbformat_minor": 4
}
