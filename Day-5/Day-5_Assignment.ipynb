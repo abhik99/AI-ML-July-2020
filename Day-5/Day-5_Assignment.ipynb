{
 "cells": [
  {
   "cell_type": "code",
   "execution_count": 3,
   "metadata": {},
   "outputs": [
    {
     "name": "stdout",
     "output_type": "stream",
     "text": [
      "1\n",
      "3\n",
      "5\n",
      "7\n",
      "9\n",
      "11\n",
      "13\n",
      "15\n",
      "17\n",
      "19\n"
     ]
    }
   ],
   "source": [
    "#Write a Python program to find the first 20 non-even prime natural numbers\n",
    "for x in range(20): \n",
    "    if (x % 2 != 0):\n",
    "        print(x)"
   ]
  },
  {
   "cell_type": "code",
   "execution_count": 23,
   "metadata": {},
   "outputs": [
    {
     "name": "stdout",
     "output_type": "stream",
     "text": [
      "False\n",
      "False\n",
      "aBHISHEK kUMAR007\n",
      "Abhishek kumar007\n",
      "abhishek kumar007\n",
      "                Abhishek Kumar007                 \n",
      "1\n",
      "7\n",
      "False\n",
      "False\n",
      "False\n",
      "['Abhishek', 'Kumar007']\n",
      "['Abhi', 'hek Kumar007']\n",
      "9\n",
      "Na+Cl+3\n"
     ]
    }
   ],
   "source": [
    "#Write a Python program to implement 15 functions of string\n",
    "p = \"Abhishek Kumar007\"\n",
    "print(p.islower())\n",
    "print(p.isupper())\n",
    "print(p.swapcase())\n",
    "print(p.capitalize())\n",
    "print(p.lower())\n",
    "print(p.center(50))\n",
    "print(p.count(\"a\"))\n",
    "print(p.find(\"k\"))\n",
    "print(p.isalnum())\n",
    "print(p.isnumeric())\n",
    "print(p.isidentifier())\n",
    "print(p.split())\n",
    "print(p.rsplit(\"s\"))\n",
    "print(p.rindex(\"Kumar\"))\n",
    "\n",
    "q = (\"Na\", \"Cl\", \"3\")\n",
    "print(\"+\".join(q))\n",
    "\n"
   ]
  },
  {
   "cell_type": "code",
   "execution_count": 27,
   "metadata": {},
   "outputs": [
    {
     "name": "stdout",
     "output_type": "stream",
     "text": [
      "Enter word 1 : Dormitory \n",
      "Enter word 2 : Dirty room\n",
      "Anagram\n"
     ]
    }
   ],
   "source": [
    "#Write a Python program to check if the given string is a Palindrome or Anagram or None of them. Display the message accordingly to the user\n",
    "p = str(input(\"Enter word 1 : \"))\n",
    "q = str(input(\"Enter word 2 : \"))\n",
    "if p == p[:: -1]:\n",
    "    print(\"Palindrome\")\n",
    "elif sorted(p) == sorted(q):\n",
    "    print(\"Anagram\")\n",
    "else:\n",
    "    print(\"None of them\")"
   ]
  },
  {
   "cell_type": "code",
   "execution_count": 30,
   "metadata": {},
   "outputs": [
    {
     "name": "stdout",
     "output_type": "stream",
     "text": [
      "maytheforcebewithyoustarwars\n"
     ]
    }
   ],
   "source": [
    "#Write a Python's user defined function that removes all the additional characters from the string and converts it finally to lower case using built-in lower(). eg: If the string is \"Dr. Darshan Ingle @AI-ML Trainer\", then the output be \"drdarshaningleaimltrainer\".\n",
    "def fun(x):\n",
    "    p = [\"!\", \"#\", \"$\", \"@\", \"-\", \".\", \"&\", \" \", \"^\"]\n",
    "    for i in p:\n",
    "        x = x.replace(i, \"\")\n",
    "        x = x.lower()\n",
    "    #print(\"After removing all special characters from given string is: \")\n",
    "    #print(\"New string formed: \", x)\n",
    "    print(x)\n",
    "\n",
    "q = \"May The Force Be With You @StarWars...\"\n",
    "fun(q)"
   ]
  },
  {
   "cell_type": "code",
   "execution_count": null,
   "metadata": {},
   "outputs": [],
   "source": []
  }
 ],
 "metadata": {
  "kernelspec": {
   "display_name": "Python 3",
   "language": "python",
   "name": "python3"
  },
  "language_info": {
   "codemirror_mode": {
    "name": "ipython",
    "version": 3
   },
   "file_extension": ".py",
   "mimetype": "text/x-python",
   "name": "python",
   "nbconvert_exporter": "python",
   "pygments_lexer": "ipython3",
   "version": "3.7.6"
  }
 },
 "nbformat": 4,
 "nbformat_minor": 4
}
